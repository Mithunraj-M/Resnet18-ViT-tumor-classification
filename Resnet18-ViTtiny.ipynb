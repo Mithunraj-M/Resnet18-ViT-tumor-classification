{
 "cells": [
  {
   "cell_type": "markdown",
   "metadata": {},
   "source": [
    "Import dataset for classification, Load the saved model and train"
   ]
  },
  {
   "cell_type": "code",
   "execution_count": 14,
   "metadata": {},
   "outputs": [],
   "source": [
    "import torch\n",
    "import torch.nn as nn\n",
    "import torch.optim as optim\n",
    "from torchvision import datasets, transforms, models\n",
    "from torch.utils.data import DataLoader\n",
    "from sklearn.metrics import f1_score\n",
    "import timm\n",
    "import numpy as np"
   ]
  },
  {
   "cell_type": "code",
   "execution_count": 15,
   "metadata": {},
   "outputs": [],
   "source": [
    "\n",
    "# %% Paths\n",
    "train_data_path = r'C:\\Users\\mithu\\Desktop\\VIT Projects\\III year\\AI Project\\Chest\\train'\n",
    "test_data_path = r'C:\\Users\\mithu\\Desktop\\VIT Projects\\III year\\AI Project\\Chest\\valid'\n",
    "resnet_weights_path = r'C:\\Users\\mithu\\Desktop\\VIT Projects\\III year\\AI Project\\fine_tuned_model_weights.pth'\n",
    "\n",
    "train_transforms = transforms.Compose([\n",
    "    transforms.Resize((512, 512)),\n",
    "    transforms.ToTensor(),\n",
    "    transforms.Normalize([0.485, 0.456, 0.406], [0.229, 0.224, 0.225])\n",
    "])\n",
    "\n",
    "test_transforms = transforms.Compose([\n",
    "    transforms.Resize((512, 512)),\n",
    "    transforms.ToTensor(),\n",
    "    transforms.Normalize([0.485, 0.456, 0.406], [0.229, 0.224, 0.225])\n",
    "])\n"
   ]
  },
  {
   "cell_type": "code",
   "execution_count": 16,
   "metadata": {},
   "outputs": [],
   "source": [
    "\n",
    "train_dataset = datasets.ImageFolder(root=train_data_path, transform=train_transforms)\n",
    "test_dataset = datasets.ImageFolder(root=test_data_path, transform=test_transforms)\n",
    "\n",
    "\n",
    "train_loader = DataLoader(train_dataset, batch_size=32, shuffle=True)\n",
    "test_loader = DataLoader(test_dataset, batch_size=32, shuffle=False)\n"
   ]
  },
  {
   "cell_type": "code",
   "execution_count": 17,
   "metadata": {},
   "outputs": [],
   "source": [
    "# %% Hybrid Model\n",
    "class HybridResNetViTTiny(nn.Module):\n",
    "    def __init__(self, num_classes=4, patch_size=2, resnet_weights=None):\n",
    "        super(HybridResNetViTTiny, self).__init__()\n",
    "\n",
    "        # Load custom fine-tuned ResNet-18\n",
    "        resnet = models.resnet18(pretrained=False)\n",
    "        if resnet_weights:\n",
    "            state_dict = torch.load(resnet_weights)\n",
    "            state_dict = {k: v for k, v in state_dict.items() if 'fc' not in k}\n",
    "            resnet.load_state_dict(state_dict, strict=False)\n",
    "\n",
    "        self.backbone = nn.Sequential(*list(resnet.children())[:-2])  # [B, 512, H, W]\n",
    "\n",
    "        # Patchify + Project to ViT input\n",
    "        self.patch_size = patch_size\n",
    "        self.vit_dim = 192  # vit_tiny dim\n",
    "        self.projector = nn.Linear(512 * patch_size * patch_size, self.vit_dim)\n",
    "\n",
    "        # Use ViT-tiny encoder blocks\n",
    "        vit_tiny = timm.create_model('vit_tiny_patch16_224', pretrained=True)\n",
    "        self.vit_blocks = vit_tiny.blocks\n",
    "        self.norm = vit_tiny.norm\n",
    "\n",
    "        # Classifier\n",
    "        self.classifier = nn.Linear(self.vit_dim, num_classes)\n",
    "\n",
    "    def forward(self, x):\n",
    "        B = x.size(0)\n",
    "        features = self.backbone(x)  # [B, 512, H, W]\n",
    "        _, C, H, W = features.shape\n",
    "\n",
    "        # Patchify\n",
    "        patches = features.unfold(2, self.patch_size, self.patch_size).unfold(3, self.patch_size, self.patch_size)\n",
    "        patches = patches.contiguous().view(B, C, -1, self.patch_size * self.patch_size)\n",
    "        patches = patches.permute(0, 2, 1, 3).reshape(B, -1, C * self.patch_size * self.patch_size)\n",
    "\n",
    "        # Linear projection\n",
    "        x_proj = self.projector(patches)  # [B, num_patches, 192]\n",
    "\n",
    "        # ViT encoding\n",
    "        for blk in self.vit_blocks:\n",
    "            x_proj = blk(x_proj)\n",
    "\n",
    "        x_proj = self.norm(x_proj)\n",
    "        x_cls = x_proj.mean(dim=1)  # mean pooling\n",
    "        out = self.classifier(x_cls)\n",
    "        return out\n"
   ]
  },
  {
   "cell_type": "code",
   "execution_count": 18,
   "metadata": {},
   "outputs": [
    {
     "name": "stderr",
     "output_type": "stream",
     "text": [
      "c:\\Users\\mithu\\AppData\\Local\\Programs\\Python\\Python311\\Lib\\site-packages\\torchvision\\models\\_utils.py:208: UserWarning: The parameter 'pretrained' is deprecated since 0.13 and may be removed in the future, please use 'weights' instead.\n",
      "  warnings.warn(\n",
      "c:\\Users\\mithu\\AppData\\Local\\Programs\\Python\\Python311\\Lib\\site-packages\\torchvision\\models\\_utils.py:223: UserWarning: Arguments other than a weight enum or `None` for 'weights' are deprecated since 0.13 and may be removed in the future. The current behavior is equivalent to passing `weights=None`.\n",
      "  warnings.warn(msg)\n",
      "C:\\Users\\mithu\\AppData\\Local\\Temp\\ipykernel_17344\\830196725.py:9: FutureWarning: You are using `torch.load` with `weights_only=False` (the current default value), which uses the default pickle module implicitly. It is possible to construct malicious pickle data which will execute arbitrary code during unpickling (See https://github.com/pytorch/pytorch/blob/main/SECURITY.md#untrusted-models for more details). In a future release, the default value for `weights_only` will be flipped to `True`. This limits the functions that could be executed during unpickling. Arbitrary objects will no longer be allowed to be loaded via this mode unless they are explicitly allowlisted by the user via `torch.serialization.add_safe_globals`. We recommend you start setting `weights_only=True` for any use case where you don't have full control of the loaded file. Please open an issue on GitHub for any issues related to this experimental feature.\n",
      "  state_dict = torch.load(resnet_weights)\n"
     ]
    }
   ],
   "source": [
    "device = torch.device(\"cuda\" if torch.cuda.is_available() else \"cpu\")\n",
    "\n",
    "model = HybridResNetViTTiny(\n",
    "    num_classes=len(train_dataset.classes),\n",
    "    patch_size=8,\n",
    "    resnet_weights=resnet_weights_path\n",
    ").to(device)\n",
    "\n",
    "criterion = nn.CrossEntropyLoss()\n",
    "optimizer = optim.Adam(model.parameters(), lr=1e-4)"
   ]
  },
  {
   "cell_type": "code",
   "execution_count": 20,
   "metadata": {},
   "outputs": [
    {
     "name": "stdout",
     "output_type": "stream",
     "text": [
      "Epoch [1/10], Loss: 0.6871\n",
      "F1 Score after Epoch 1: 0.5634\n",
      "✅ Saved model with best F1!\n",
      "Epoch [2/10], Loss: 0.4101\n",
      "F1 Score after Epoch 2: 0.6776\n",
      "✅ Saved model with best F1!\n",
      "Epoch [3/10], Loss: 0.0444\n",
      "F1 Score after Epoch 3: 0.7864\n",
      "✅ Saved model with best F1!\n",
      "Epoch [4/10], Loss: 0.0232\n",
      "F1 Score after Epoch 4: 0.7864\n",
      "Epoch [5/10], Loss: 0.8750\n",
      "F1 Score after Epoch 5: 0.8374\n",
      "✅ Saved model with best F1!\n",
      "Epoch [6/10], Loss: 0.4055\n",
      "F1 Score after Epoch 6: 0.7696\n",
      "Epoch [7/10], Loss: 0.0208\n",
      "F1 Score after Epoch 7: 0.8356\n",
      "Epoch [8/10], Loss: 0.0015\n",
      "F1 Score after Epoch 8: 0.9181\n",
      "✅ Saved model with best F1!\n",
      "Epoch [9/10], Loss: 0.0016\n",
      "F1 Score after Epoch 9: 0.8360\n",
      "Epoch [10/10], Loss: 0.3181\n",
      "F1 Score after Epoch 10: 0.8776\n",
      "Final Accuracy: 0.8750\n"
     ]
    }
   ],
   "source": [
    "# %% Training Loop\n",
    "num_epochs = 10\n",
    "best_f1 = 0.0\n",
    "\n",
    "for epoch in range(num_epochs):\n",
    "    model.train()\n",
    "    for images, labels in train_loader:\n",
    "        images, labels = images.to(device), labels.to(device)\n",
    "\n",
    "        optimizer.zero_grad()\n",
    "        outputs = model(images)\n",
    "        loss = criterion(outputs, labels)\n",
    "        loss.backward()\n",
    "        optimizer.step()\n",
    "\n",
    "    print(f\"Epoch [{epoch+1}/{num_epochs}], Loss: {loss.item():.4f}\")\n",
    "\n",
    "    # Evaluation\n",
    "    model.eval()\n",
    "    all_preds, all_labels = [], []\n",
    "\n",
    "    with torch.no_grad():\n",
    "        for images, labels in test_loader:\n",
    "            images = images.to(device)\n",
    "            outputs = model(images)\n",
    "            _, predicted = torch.max(outputs.data, 1)\n",
    "            all_preds.extend(predicted.cpu().numpy())\n",
    "            all_labels.extend(labels.numpy())\n",
    "\n",
    "    f1 = f1_score(all_labels, all_preds, average='weighted')\n",
    "    print(f'F1 Score after Epoch {epoch+1}: {f1:.4f}')\n",
    "\n",
    "    # Save model with best F1\n",
    "    if f1 > best_f1:\n",
    "        best_f1 = f1\n",
    "        torch.save(model.state_dict(), 'best_hybrid_vit_model.pth')\n",
    "        print(\"✅ Saved model with best F1!\")\n",
    "\n",
    "# %% Final Accuracy\n",
    "accuracy = sum(np.array(all_preds) == np.array(all_labels)) / len(all_labels)\n",
    "print(f'Final Accuracy: {accuracy:.4f}')"
   ]
  }
 ],
 "metadata": {
  "kernelspec": {
   "display_name": "Python 3",
   "language": "python",
   "name": "python3"
  },
  "language_info": {
   "codemirror_mode": {
    "name": "ipython",
    "version": 3
   },
   "file_extension": ".py",
   "mimetype": "text/x-python",
   "name": "python",
   "nbconvert_exporter": "python",
   "pygments_lexer": "ipython3",
   "version": "3.11.5"
  }
 },
 "nbformat": 4,
 "nbformat_minor": 2
}
